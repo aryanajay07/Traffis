{
  "nbformat": 4,
  "nbformat_minor": 0,
  "metadata": {
    "colab": {
      "provenance": [],
      "gpuType": "T4"
    },
    "kernelspec": {
      "name": "python3",
      "display_name": "Python 3"
    },
    "language_info": {
      "name": "python"
    },
    "accelerator": "GPU"
  },
  "cells": [
    {
      "cell_type": "code",
      "execution_count": 1,
      "metadata": {
        "id": "5b1zjkyEnl7g"
      },
      "outputs": [],
      "source": [
        "import matplotlib.pyplot as plt\n",
        "from PIL import Image\n",
        "import pandas as pd\n",
        "import os\n",
        "import glob\n",
        "import cv2\n",
        "%matplotlib inline\n",
        "import tensorflow as tf\n",
        "from tensorflow import keras\n",
        "from sklearn.metrics import f1_score\n",
        "from keras import datasets, layers,  models\n",
        "from keras import optimizers\n",
        "from keras.models import Sequential\n",
        "from keras.preprocessing.image import ImageDataGenerator\n",
        "from keras.layers import Input, Dense, BatchNormalization, MaxPooling2D ,Dropout"
      ]
    },
    {
      "cell_type": "code",
      "source": [
        "# from google.colab import drive\n",
        "# drive.mount('/content/drive')"
      ],
      "metadata": {
        "id": "7MXrYcFwoDfE"
      },
      "execution_count": 2,
      "outputs": []
    },
    {
      "cell_type": "code",
      "source": [
        "images_dir = \"/content/drive/MyDrive/Character_sets\"\n",
        "# list of all digits\n",
        "digits = list(map(str, range(10))) + [\"ba\",\"cha\",\"pa\"]\n",
        "# map digits to their respective directory path\n",
        "digits_dir = dict(zip(digits, map(lambda d: os.path.join(images_dir, d), digits)))"
      ],
      "metadata": {
        "id": "U5QpjUhXoEMF"
      },
      "execution_count": 3,
      "outputs": []
    },
    {
      "cell_type": "code",
      "source": [
        "digits, digits_dir"
      ],
      "metadata": {
        "colab": {
          "base_uri": "https://localhost:8080/"
        },
        "id": "oyKnBFFSo2LW",
        "outputId": "b0d13648-2b0b-4aaf-e5f9-75877fc5c8c2"
      },
      "execution_count": 4,
      "outputs": [
        {
          "output_type": "execute_result",
          "data": {
            "text/plain": [
              "(['0', '1', '2', '3', '4', '5', '6', '7', '8', '9', 'ba', 'cha', 'pa'],\n",
              " {'0': '/content/drive/MyDrive/Character_sets/0',\n",
              "  '1': '/content/drive/MyDrive/Character_sets/1',\n",
              "  '2': '/content/drive/MyDrive/Character_sets/2',\n",
              "  '3': '/content/drive/MyDrive/Character_sets/3',\n",
              "  '4': '/content/drive/MyDrive/Character_sets/4',\n",
              "  '5': '/content/drive/MyDrive/Character_sets/5',\n",
              "  '6': '/content/drive/MyDrive/Character_sets/6',\n",
              "  '7': '/content/drive/MyDrive/Character_sets/7',\n",
              "  '8': '/content/drive/MyDrive/Character_sets/8',\n",
              "  '9': '/content/drive/MyDrive/Character_sets/9',\n",
              "  'ba': '/content/drive/MyDrive/Character_sets/ba',\n",
              "  'cha': '/content/drive/MyDrive/Character_sets/cha',\n",
              "  'pa': '/content/drive/MyDrive/Character_sets/pa'})"
            ]
          },
          "metadata": {},
          "execution_count": 4
        }
      ]
    },
    {
      "cell_type": "code",
      "source": [
        "# digits_col = []\n",
        "# total_files_col = []\n",
        "# for digit, folder in digits_dir.items():\n",
        "#     total_files = len(glob.glob(os.path.join(folder, \"*.jpg\")))\n",
        "#     digits_col.append(digit)\n",
        "#     total_files_col.append(total_files)\n",
        "\n",
        "# # prepare a pandas dataframe and sort by digit\n",
        "# sample_count_df = pd.DataFrame({'count': total_files_col}, index=digits_col).sort_index()\n",
        "# print(sample_count_df.describe())\n",
        "# lower_percentile = sample_count_df.describe()['count']['25%']\n",
        "\n",
        "# fix, axes = plt.subplots(1, 2, figsize=(12, 5))\n",
        "# sample_count_df.plot.bar(ax=axes[0], title=\"Samples per digit\")\n",
        "# sample_count_df[sample_count_df['count'] < lower_percentile].plot.bar(ax=axes[1], title=\"Under Representend Sample\""
      ],
      "metadata": {
        "id": "JtFevYW1o635"
      },
      "execution_count": 5,
      "outputs": []
    },
    {
      "cell_type": "code",
      "source": [
        "total_images = sum(len(glob.glob(os.path.join(folder, \"*.png\"))) for _, folder in digits_dir.items())\n",
        "total_images"
      ],
      "metadata": {
        "colab": {
          "base_uri": "https://localhost:8080/"
        },
        "id": "eaeMHwIzpA8v",
        "outputId": "4b7cf3d2-86d6-42e2-a219-e03b6103ec27"
      },
      "execution_count": 6,
      "outputs": [
        {
          "output_type": "execute_result",
          "data": {
            "text/plain": [
              "10478"
            ]
          },
          "metadata": {},
          "execution_count": 6
        }
      ]
    },
    {
      "cell_type": "code",
      "source": [
        "import keras.backend as K\n",
        "validation_split = 0.3\n",
        "train_datagen = ImageDataGenerator(rescale=1./255, validation_split=validation_split,width_shift_range=0.1, height_shift_range=0.1)\n",
        "train_generator = train_datagen.flow_from_directory(\n",
        "        images_dir,\n",
        "        target_size=(28,28),  # all images will be resized to 28x28\n",
        "        batch_size=1,\n",
        "        class_mode='sparse',\n",
        "        subset=\"training\")\n",
        "\n",
        "validation_generator = train_datagen.flow_from_directory(\n",
        "       images_dir,\n",
        "        target_size=(28,28),  # all images will be resized to 28x28 batch_size=1,\n",
        "        class_mode='sparse',\n",
        "       subset=\"validation\")"
      ],
      "metadata": {
        "colab": {
          "base_uri": "https://localhost:8080/"
        },
        "id": "uq2cl_y6pftT",
        "outputId": "1131a104-0f75-48b2-82ce-1882a66cad05"
      },
      "execution_count": 7,
      "outputs": [
        {
          "output_type": "stream",
          "name": "stdout",
          "text": [
            "Found 10113 images belonging to 13 classes.\n",
            "Found 4327 images belonging to 13 classes.\n"
          ]
        }
      ]
    },
    {
      "cell_type": "code",
      "source": [
        "# # Metrics for checking the model performance while training\n",
        "# def f1score(y, y_pred):\n",
        "#   return f1_score(y, tf.math.argmax(y_pred, axis=1), average='micro')\n",
        "\n",
        "# def custom_f1score(y, y_pred):\n",
        "#   return tf.py_function(f1score, (y, y_pred), tf.double)"
      ],
      "metadata": {
        "id": "7OvmrRI2qlK-"
      },
      "execution_count": 8,
      "outputs": []
    },
    {
      "cell_type": "code",
      "source": [
        "from keras.layers import Input, Dense, BatchNormalization, MaxPooling2D ,Dropout, Conv2D ,Flatten\n",
        "K.clear_session()\n",
        "model = Sequential()\n",
        "model.add(Conv2D(16, (22,22), input_shape=(28, 28, 3), activation='relu', padding='same'))\n",
        "model.add(Conv2D(32, (16,16), input_shape=(28, 28, 3), activation='relu', padding='same'))\n",
        "model.add(Conv2D(64, (8,8), input_shape=(28, 28, 3), activation='relu', padding='same'))\n",
        "model.add(Conv2D(64, (4,4), input_shape=(28, 28, 3), activation='relu', padding='same'))\n",
        "model.add(MaxPooling2D(pool_size=(4, 4)))\n",
        "model.add(Dropout(0.4))\n",
        "model.add(Flatten())\n",
        "model.add(Dense(128, activation='relu'))\n",
        "model.add(Dense(36, activation='softmax'))\n",
        "\n",
        "model.compile(loss='sparse_categorical_crossentropy', optimizer=optimizers.Adam(lr=0.0001), metrics=[\"accuracy\"])\n"
      ],
      "metadata": {
        "colab": {
          "base_uri": "https://localhost:8080/"
        },
        "id": "qmbhUXAkqszB",
        "outputId": "6533a6b5-5ea9-4ee1-cb0b-38b5283ad56f"
      },
      "execution_count": 9,
      "outputs": [
        {
          "output_type": "stream",
          "name": "stderr",
          "text": [
            "/usr/local/lib/python3.10/dist-packages/keras/optimizers/legacy/adam.py:117: UserWarning: The `lr` argument is deprecated, use `learning_rate` instead.\n",
            "  super().__init__(name, **kwargs)\n"
          ]
        }
      ]
    },
    {
      "cell_type": "code",
      "source": [
        "model.summary()"
      ],
      "metadata": {
        "colab": {
          "base_uri": "https://localhost:8080/"
        },
        "id": "3fQCRtLlVazb",
        "outputId": "8a09e9a5-cb56-4dd8-ad43-2a9219563bc1"
      },
      "execution_count": 10,
      "outputs": [
        {
          "output_type": "stream",
          "name": "stdout",
          "text": [
            "Model: \"sequential\"\n",
            "_________________________________________________________________\n",
            " Layer (type)                Output Shape              Param #   \n",
            "=================================================================\n",
            " conv2d (Conv2D)             (None, 28, 28, 16)        23248     \n",
            "                                                                 \n",
            " conv2d_1 (Conv2D)           (None, 28, 28, 32)        131104    \n",
            "                                                                 \n",
            " conv2d_2 (Conv2D)           (None, 28, 28, 64)        131136    \n",
            "                                                                 \n",
            " conv2d_3 (Conv2D)           (None, 28, 28, 64)        65600     \n",
            "                                                                 \n",
            " max_pooling2d (MaxPooling2D  (None, 7, 7, 64)         0         \n",
            " )                                                               \n",
            "                                                                 \n",
            " dropout (Dropout)           (None, 7, 7, 64)          0         \n",
            "                                                                 \n",
            " flatten (Flatten)           (None, 3136)              0         \n",
            "                                                                 \n",
            " dense (Dense)               (None, 128)               401536    \n",
            "                                                                 \n",
            " dense_1 (Dense)             (None, 36)                4644      \n",
            "                                                                 \n",
            "=================================================================\n",
            "Total params: 757,268\n",
            "Trainable params: 757,268\n",
            "Non-trainable params: 0\n",
            "_________________________________________________________________\n"
          ]
        }
      ]
    },
    {
      "cell_type": "code",
      "source": [
        "class myCallback(tf.keras.callbacks.Callback):\n",
        "    def on_epoch_end(self,epoch,logs={}):\n",
        "        if(logs.get('val_accuracy')>0.995):\n",
        "            print('\\nReached 99.5% accuracy so cancelling training!')\n",
        "            self.model.stop_training= True\n",
        "\n"
      ],
      "metadata": {
        "id": "mWzbg_ZFq5FH"
      },
      "execution_count": 11,
      "outputs": []
    },
    {
      "cell_type": "code",
      "source": [
        "batch_size = 64\n",
        "callbacks = [myCallback()]\n",
        "history=model.fit(\n",
        "      train_generator,\n",
        "      steps_per_epoch = train_generator.samples // batch_size,\n",
        "      validation_data = validation_generator,\n",
        "      epochs = 50, verbose=1, callbacks=callbacks)"
      ],
      "metadata": {
        "colab": {
          "base_uri": "https://localhost:8080/"
        },
        "id": "ZXhIWqZnrKP5",
        "outputId": "b0a476c0-6070-4b6d-d3b6-3bee25031c32"
      },
      "execution_count": 12,
      "outputs": [
        {
          "output_type": "stream",
          "name": "stdout",
          "text": [
            "Epoch 1/50\n",
            "158/158 [==============================] - 1093s 7s/step - loss: 3.2270 - accuracy: 0.1076 - val_loss: 2.8941 - val_accuracy: 0.1005\n",
            "Epoch 2/50\n",
            "158/158 [==============================] - 43s 271ms/step - loss: 2.7382 - accuracy: 0.1139 - val_loss: 2.6077 - val_accuracy: 0.0853\n",
            "Epoch 3/50\n",
            "158/158 [==============================] - 45s 282ms/step - loss: 2.5500 - accuracy: 0.1329 - val_loss: 2.3754 - val_accuracy: 0.1502\n",
            "Epoch 4/50\n",
            "158/158 [==============================] - 43s 271ms/step - loss: 2.4101 - accuracy: 0.1646 - val_loss: 2.2091 - val_accuracy: 0.2221\n",
            "Epoch 5/50\n",
            "158/158 [==============================] - 44s 278ms/step - loss: 2.1098 - accuracy: 0.3038 - val_loss: 1.9248 - val_accuracy: 0.3804\n",
            "Epoch 6/50\n",
            "158/158 [==============================] - 48s 302ms/step - loss: 2.0298 - accuracy: 0.3418 - val_loss: 1.8581 - val_accuracy: 0.3841\n",
            "Epoch 7/50\n",
            "158/158 [==============================] - 41s 261ms/step - loss: 1.7555 - accuracy: 0.4304 - val_loss: 1.5803 - val_accuracy: 0.4789\n",
            "Epoch 8/50\n",
            "158/158 [==============================] - 39s 249ms/step - loss: 1.6352 - accuracy: 0.4430 - val_loss: 1.4323 - val_accuracy: 0.5438\n",
            "Epoch 9/50\n",
            "158/158 [==============================] - 42s 266ms/step - loss: 1.4595 - accuracy: 0.5190 - val_loss: 1.3916 - val_accuracy: 0.5507\n",
            "Epoch 10/50\n",
            "158/158 [==============================] - 44s 278ms/step - loss: 1.4528 - accuracy: 0.5127 - val_loss: 1.0445 - val_accuracy: 0.6691\n",
            "Epoch 11/50\n",
            "158/158 [==============================] - 37s 237ms/step - loss: 1.1618 - accuracy: 0.5823 - val_loss: 1.0163 - val_accuracy: 0.6834\n",
            "Epoch 12/50\n",
            "158/158 [==============================] - 41s 263ms/step - loss: 1.1210 - accuracy: 0.6266 - val_loss: 1.0908 - val_accuracy: 0.6607\n",
            "Epoch 13/50\n",
            "158/158 [==============================] - 45s 283ms/step - loss: 0.8755 - accuracy: 0.7152 - val_loss: 0.8799 - val_accuracy: 0.7065\n",
            "Epoch 14/50\n",
            "158/158 [==============================] - 40s 252ms/step - loss: 0.8065 - accuracy: 0.7342 - val_loss: 0.8300 - val_accuracy: 0.7273\n",
            "Epoch 15/50\n",
            "158/158 [==============================] - 39s 246ms/step - loss: 0.8359 - accuracy: 0.7278 - val_loss: 0.8887 - val_accuracy: 0.7134\n",
            "Epoch 16/50\n",
            "158/158 [==============================] - 38s 238ms/step - loss: 0.8394 - accuracy: 0.7215 - val_loss: 0.8592 - val_accuracy: 0.7319\n",
            "Epoch 17/50\n",
            "158/158 [==============================] - 36s 226ms/step - loss: 0.6322 - accuracy: 0.7911 - val_loss: 0.7523 - val_accuracy: 0.7680\n",
            "Epoch 18/50\n",
            "158/158 [==============================] - 35s 224ms/step - loss: 0.5318 - accuracy: 0.8544 - val_loss: 0.6274 - val_accuracy: 0.8089\n",
            "Epoch 19/50\n",
            "158/158 [==============================] - 42s 263ms/step - loss: 0.5159 - accuracy: 0.8354 - val_loss: 0.7365 - val_accuracy: 0.7694\n",
            "Epoch 20/50\n",
            "158/158 [==============================] - 36s 230ms/step - loss: 0.5919 - accuracy: 0.8038 - val_loss: 0.6492 - val_accuracy: 0.7906\n",
            "Epoch 21/50\n",
            "158/158 [==============================] - 35s 220ms/step - loss: 0.4868 - accuracy: 0.8354 - val_loss: 0.6143 - val_accuracy: 0.8010\n",
            "Epoch 22/50\n",
            "158/158 [==============================] - 38s 238ms/step - loss: 0.5806 - accuracy: 0.8354 - val_loss: 0.6043 - val_accuracy: 0.8116\n",
            "Epoch 23/50\n",
            "158/158 [==============================] - 33s 208ms/step - loss: 0.4169 - accuracy: 0.9177 - val_loss: 0.5450 - val_accuracy: 0.8313\n",
            "Epoch 24/50\n",
            "158/158 [==============================] - 34s 217ms/step - loss: 0.4147 - accuracy: 0.8987 - val_loss: 0.6364 - val_accuracy: 0.7966\n",
            "Epoch 25/50\n",
            "158/158 [==============================] - 33s 210ms/step - loss: 0.5863 - accuracy: 0.8354 - val_loss: 0.4880 - val_accuracy: 0.8482\n",
            "Epoch 26/50\n",
            "158/158 [==============================] - 37s 232ms/step - loss: 0.5461 - accuracy: 0.8165 - val_loss: 0.4941 - val_accuracy: 0.8470\n",
            "Epoch 27/50\n",
            "158/158 [==============================] - 33s 210ms/step - loss: 0.6085 - accuracy: 0.8354 - val_loss: 0.4309 - val_accuracy: 0.8609\n",
            "Epoch 28/50\n",
            "158/158 [==============================] - 34s 217ms/step - loss: 0.3414 - accuracy: 0.9177 - val_loss: 0.5477 - val_accuracy: 0.8382\n",
            "Epoch 29/50\n",
            "158/158 [==============================] - 32s 202ms/step - loss: 0.4895 - accuracy: 0.8608 - val_loss: 0.4956 - val_accuracy: 0.8274\n",
            "Epoch 30/50\n",
            "158/158 [==============================] - 34s 216ms/step - loss: 0.5096 - accuracy: 0.8354 - val_loss: 0.7579 - val_accuracy: 0.7770\n",
            "Epoch 31/50\n",
            "158/158 [==============================] - 29s 185ms/step - loss: 0.4821 - accuracy: 0.8608 - val_loss: 0.4361 - val_accuracy: 0.8713\n",
            "Epoch 32/50\n",
            "158/158 [==============================] - 31s 194ms/step - loss: 0.3879 - accuracy: 0.8861 - val_loss: 0.6661 - val_accuracy: 0.7948\n",
            "Epoch 33/50\n",
            "158/158 [==============================] - 32s 205ms/step - loss: 0.3649 - accuracy: 0.9051 - val_loss: 0.5643 - val_accuracy: 0.8294\n",
            "Epoch 34/50\n",
            "158/158 [==============================] - 30s 188ms/step - loss: 0.4255 - accuracy: 0.8861 - val_loss: 0.4355 - val_accuracy: 0.8630\n",
            "Epoch 35/50\n",
            "158/158 [==============================] - 34s 217ms/step - loss: 0.2666 - accuracy: 0.9114 - val_loss: 0.4575 - val_accuracy: 0.8574\n",
            "Epoch 36/50\n",
            "158/158 [==============================] - 31s 198ms/step - loss: 0.2143 - accuracy: 0.9177 - val_loss: 0.6246 - val_accuracy: 0.8186\n",
            "Epoch 37/50\n",
            "158/158 [==============================] - 31s 198ms/step - loss: 0.3431 - accuracy: 0.8734 - val_loss: 0.5062 - val_accuracy: 0.8355\n",
            "Epoch 38/50\n",
            "158/158 [==============================] - 27s 170ms/step - loss: 0.4328 - accuracy: 0.8608 - val_loss: 0.3998 - val_accuracy: 0.8669\n",
            "Epoch 39/50\n",
            "158/158 [==============================] - 30s 193ms/step - loss: 0.2925 - accuracy: 0.9114 - val_loss: 0.5780 - val_accuracy: 0.8244\n",
            "Epoch 40/50\n",
            "158/158 [==============================] - 29s 182ms/step - loss: 0.4335 - accuracy: 0.8481 - val_loss: 0.4253 - val_accuracy: 0.8775\n",
            "Epoch 41/50\n",
            "158/158 [==============================] - 30s 190ms/step - loss: 0.2247 - accuracy: 0.9177 - val_loss: 0.2935 - val_accuracy: 0.9057\n",
            "Epoch 42/50\n",
            "158/158 [==============================] - 32s 201ms/step - loss: 0.3325 - accuracy: 0.8797 - val_loss: 0.3649 - val_accuracy: 0.8784\n",
            "Epoch 43/50\n",
            "158/158 [==============================] - 28s 181ms/step - loss: 0.3255 - accuracy: 0.9051 - val_loss: 0.2824 - val_accuracy: 0.9066\n",
            "Epoch 44/50\n",
            "158/158 [==============================] - 27s 175ms/step - loss: 0.1651 - accuracy: 0.9430 - val_loss: 0.3538 - val_accuracy: 0.8930\n",
            "Epoch 45/50\n",
            "158/158 [==============================] - 27s 172ms/step - loss: 0.3552 - accuracy: 0.8987 - val_loss: 0.3296 - val_accuracy: 0.9020\n",
            "Epoch 46/50\n",
            "158/158 [==============================] - 29s 185ms/step - loss: 0.3356 - accuracy: 0.9177 - val_loss: 0.3183 - val_accuracy: 0.9027\n",
            "Epoch 47/50\n",
            "158/158 [==============================] - 27s 172ms/step - loss: 0.2382 - accuracy: 0.9114 - val_loss: 0.3659 - val_accuracy: 0.8865\n",
            "Epoch 48/50\n",
            "158/158 [==============================] - 25s 159ms/step - loss: 0.1744 - accuracy: 0.9367 - val_loss: 0.3553 - val_accuracy: 0.8877\n",
            "Epoch 49/50\n",
            "158/158 [==============================] - 26s 163ms/step - loss: 0.2571 - accuracy: 0.8987 - val_loss: 0.5107 - val_accuracy: 0.8537\n",
            "Epoch 50/50\n",
            "158/158 [==============================] - 27s 170ms/step - loss: 0.1291 - accuracy: 0.9304 - val_loss: 0.2883 - val_accuracy: 0.9180\n"
          ]
        }
      ]
    },
    {
      "cell_type": "code",
      "source": [
        "def plot_train_history(history):\n",
        "    fig, axes = plt.subplots(1, 2, figsize=(10, 5))\n",
        "    axes[0].plot(history.history['accuracy'], label='Traininng accuracy')\n",
        "    axes[0].plot(history.history['val_accuracy'], label='Validation accuracy')\n",
        "    axes[0].set_xlabel('Epochs')\n",
        "    axes[0].legend()\n",
        "\n",
        "\n",
        "    axes[1].plot(history.history['loss'], label='Training loss')\n",
        "    axes[1].plot(history.history['val_loss'], label='Validation loss')\n",
        "    axes[1].set_xlabel('Epochs')\n",
        "    axes[1].legend()\n",
        "\n",
        "    axes[1].plot(history.history['loss'], label='Training loss')\n",
        "    axes[1].plot(history.history['val_loss'], label='Validation loss')\n",
        "    axes[1].set_xlabel('Epochs')\n",
        "    axes[1].legend()\n",
        "\n",
        "plot_train_history(history)"
      ],
      "metadata": {
        "id": "bIH8duUvsJYY",
        "colab": {
          "base_uri": "https://localhost:8080/",
          "height": 465
        },
        "outputId": "d7ae64fe-798a-483a-bcb2-23721c92df63"
      },
      "execution_count": 13,
      "outputs": [
        {
          "output_type": "display_data",
          "data": {
            "text/plain": [
              "<Figure size 1000x500 with 2 Axes>"
            ],
            "image/png": "[encoded data removed]"
          },
          "metadata": {}
        }
      ]
    },
    {
      "cell_type": "code",
      "source": [
        "X, Y_true = next(validation_generator)\n",
        "Y_true = Y_true.argmax(axis=-1)\n",
        "Y_pred = model.predict_on_batch(X).argmax(axis=-1)"
      ],
      "metadata": {
        "id": "qHPfAdf0lPSc"
      },
      "execution_count": 14,
      "outputs": []
    },
    {
      "cell_type": "code",
      "source": [
        "# Save the model to the local disk\n",
        "model.save('/content/model.h5')"
      ],
      "metadata": {
        "id": "d4PH4U8Mm6A1"
      },
      "execution_count": 16,
      "outputs": []
    },
    {
      "cell_type": "code",
      "source": [
        "from google.colab import files\n",
        "files.download('/content/model.h5')\n"
      ],
      "metadata": {
        "id": "uoGZFlW5lt14",
        "colab": {
          "base_uri": "https://localhost:8080/",
          "height": 17
        },
        "outputId": "3beb0aaf-fec6-477d-ea2a-8e14d2d83c0a"
      },
      "execution_count": 17,
      "outputs": [
        {
          "output_type": "display_data",
          "data": {
            "text/plain": [
              "<IPython.core.display.Javascript object>"
            ],
            "application/javascript": [
              "\n",
              "    async function download(id, filename, size) {\n",
              "      if (!google.colab.kernel.accessAllowed) {\n",
              "        return;\n",
              "      }\n",
              "      const div = document.createElement('div');\n",
              "      const label = document.createElement('label');\n",
              "      label.textContent = `Downloading \"${filename}\": `;\n",
              "      div.appendChild(label);\n",
              "      const progress = document.createElement('progress');\n",
              "      progress.max = size;\n",
              "      div.appendChild(progress);\n",
              "      document.body.appendChild(div);\n",
              "\n",
              "      const buffers = [];\n",
              "      let downloaded = 0;\n",
              "\n",
              "      const channel = await google.colab.kernel.comms.open(id);\n",
              "      // Send a message to notify the kernel that we're ready.\n",
              "      channel.send({})\n",
              "\n",
              "      for await (const message of channel.messages) {\n",
              "        // Send a message to notify the kernel that we're ready.\n",
              "        channel.send({})\n",
              "        if (message.buffers) {\n",
              "          for (const buffer of message.buffers) {\n",
              "            buffers.push(buffer);\n",
              "            downloaded += buffer.byteLength;\n",
              "            progress.value = downloaded;\n",
              "          }\n",
              "        }\n",
              "      }\n",
              "      const blob = new Blob(buffers, {type: 'application/binary'});\n",
              "      const a = document.createElement('a');\n",
              "      a.href = window.URL.createObjectURL(blob);\n",
              "      a.download = filename;\n",
              "      div.appendChild(a);\n",
              "      a.click();\n",
              "      div.remove();\n",
              "    }\n",
              "  "
            ]
          },
          "metadata": {}
        },
        {
          "output_type": "display_data",
          "data": {
            "text/plain": [
              "<IPython.core.display.Javascript object>"
            ],
            "application/javascript": [
              "download(\"download_fda85c4e-f8d2-47a8-a0a5-23648efbf9bc\", \"model.h5\", 9148256)"
            ]
          },
          "metadata": {}
        }
      ]
    },
    {
      "cell_type": "code",
      "source": [],
      "metadata": {
        "id": "Y5IRTD7zCSVb"
      },
      "execution_count": null,
      "outputs": []
    }
  ]
}